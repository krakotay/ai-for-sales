{
 "cells": [
  {
   "cell_type": "code",
   "execution_count": 7,
   "metadata": {},
   "outputs": [
    {
     "data": {
      "text/html": [
       "<div><style>\n",
       ".dataframe > thead > tr,\n",
       ".dataframe > tbody > tr {\n",
       "  text-align: right;\n",
       "  white-space: pre-wrap;\n",
       "}\n",
       "</style>\n",
       "<small>shape: (147, 40)</small><table border=\"1\" class=\"dataframe\"><thead><tr><th>ID товара</th><th>Название товара или услуги</th><th>Название товара в URL</th><th>URL</th><th>Дополнительное описание</th><th>Описание</th><th>Видимость на витрине</th><th>Применять скидки</th><th>Тег title</th><th>Мета-тег keywords</th><th>Мета-тег description</th><th>Размещение на сайте</th><th>Весовой коэффициент</th><th>Валюта склада</th><th>НДС</th><th>Единица измерения</th><th>Габариты</th><th>Изображения</th><th>Ссылка на видео</th><th>ID варианта</th><th>Артикул</th><th>Штрих-код</th><th>Внешний ID</th><th>Габариты варианта</th><th>Цена продажи</th><th>Старая цена</th><th>Себестоимость</th><th>Остаток</th><th>Вес</th><th>Изображения варианта</th><th>Параметр: Бренд</th><th>Параметр: Страна производства</th><th>Параметр: Пол</th><th>Параметр: Состав</th><th>Параметр: Цвет</th><th>Параметр: Сезон</th><th>Параметр: Рисунок</th><th>Параметр: Размер</th><th>Параметр: Честный знак</th><th>Дополнительное поле: ID Мой Склад</th></tr><tr><td>i64</td><td>str</td><td>str</td><td>str</td><td>str</td><td>str</td><td>str</td><td>str</td><td>str</td><td>str</td><td>str</td><td>str</td><td>str</td><td>str</td><td>str</td><td>str</td><td>str</td><td>str</td><td>str</td><td>i64</td><td>str</td><td>i64</td><td>i64</td><td>str</td><td>str</td><td>str</td><td>str</td><td>i64</td><td>str</td><td>str</td><td>str</td><td>str</td><td>str</td><td>str</td><td>str</td><td>str</td><td>str</td><td>str</td><td>str</td><td>str</td></tr></thead><tbody><tr><td>379521759</td><td>&quot;Носки подростковые белые 30 па…</td><td>&quot;noski-podrostkovye-belye-120-p…</td><td>&quot;https://купитекстильоптом.рф/c…</td><td>&quot;&lt;p&gt;Минимальное количество прод…</td><td>&quot;&quot;</td><td>&quot;скрыт&quot;</td><td>&quot;да&quot;</td><td>&quot;&quot;</td><td>&quot;&quot;</td><td>&quot;&quot;</td><td>&quot;Каталог ## Каталог/Хиты продаж…</td><td>null</td><td>&quot;RUR&quot;</td><td>&quot;Без НДС&quot;</td><td>&quot;упак&quot;</td><td>null</td><td>&quot;https://static.insales-cdn.com…</td><td>&quot;&quot;</td><td>637268246</td><td>&quot;CTS 01-2&quot;</td><td>null</td><td>637268246</td><td>null</td><td>&quot;1140,0&quot;</td><td>&quot;&quot;</td><td>&quot;0,0&quot;</td><td>0</td><td>&quot;&quot;</td><td>&quot;&quot;</td><td>&quot;APOLLON&quot;</td><td>&quot;Китай&quot;</td><td>&quot;Мальчики&quot;</td><td>&quot;Хлопок&quot;</td><td>&quot;Белый&quot;</td><td>&quot;Демисезон&quot;</td><td>null</td><td>null</td><td>null</td><td>&quot;379521759&quot;</td></tr><tr><td>379524161</td><td>&quot;Носки детские цвета микс 30 па…</td><td>&quot;noski-detskie-tsveta-miks-120-…</td><td>&quot;https://купитекстильоптом.рф/c…</td><td>&quot;&lt;p&gt;Минимальное количество прод…</td><td>&quot;&quot;</td><td>&quot;скрыт&quot;</td><td>&quot;да&quot;</td><td>&quot;&quot;</td><td>&quot;&quot;</td><td>&quot;&quot;</td><td>&quot;Каталог ## Каталог/Хиты продаж…</td><td>null</td><td>&quot;RUR&quot;</td><td>&quot;Без НДС&quot;</td><td>&quot;упак&quot;</td><td>null</td><td>&quot;https://static.insales-cdn.com…</td><td>&quot;&quot;</td><td>637270868</td><td>&quot;CTS 03 A&quot;</td><td>null</td><td>637270868</td><td>null</td><td>&quot;1140,0&quot;</td><td>&quot;&quot;</td><td>&quot;0,0&quot;</td><td>0</td><td>&quot;&quot;</td><td>&quot;&quot;</td><td>&quot;APOLLON&quot;</td><td>&quot;Китай&quot;</td><td>&quot;Девочки##Мальчики&quot;</td><td>&quot;Хлопок&quot;</td><td>&quot;черный, белый, серый&quot;</td><td>&quot;Круглогодичный##Лето##Демисезо…</td><td>&quot;Без рисунка&quot;</td><td>&quot;3-5 лет##5-7 лет##7-9 лет&quot;</td><td>null</td><td>&quot;379524161&quot;</td></tr><tr><td>379525624</td><td>&quot;Носки подростковые цвета микс …</td><td>&quot;noski-podrostkovye-tsveta-miks…</td><td>&quot;https://купитекстильоптом.рф/c…</td><td>&quot;&lt;p&gt;Минимальное количество прод…</td><td>&quot;&quot;</td><td>&quot;скрыт&quot;</td><td>&quot;да&quot;</td><td>&quot;&quot;</td><td>&quot;&quot;</td><td>&quot;&quot;</td><td>&quot;Каталог ## Каталог/Хиты продаж…</td><td>null</td><td>&quot;RUR&quot;</td><td>&quot;Без НДС&quot;</td><td>&quot;упак&quot;</td><td>null</td><td>&quot;https://static.insales-cdn.com…</td><td>&quot;&quot;</td><td>637272386</td><td>&quot;CTS 03 B&quot;</td><td>null</td><td>637272386</td><td>null</td><td>&quot;1140,0&quot;</td><td>&quot;&quot;</td><td>&quot;0,0&quot;</td><td>0</td><td>&quot;&quot;</td><td>&quot;&quot;</td><td>&quot;APOLLON&quot;</td><td>&quot;Китай&quot;</td><td>&quot;Мальчики&quot;</td><td>&quot;Хлопок&quot;</td><td>&quot;Разноцветные&quot;</td><td>&quot;Демисезон&quot;</td><td>null</td><td>null</td><td>null</td><td>&quot;379525624&quot;</td></tr><tr><td>379534009</td><td>&quot;Хлопковые носки для девочек с …</td><td>&quot;noski-podrostkovye-dlya-devoch…</td><td>&quot;https://купитекстильоптом.рф/c…</td><td>&quot;&lt;p style=&quot;line-height: 1.38; m…</td><td>&quot;&lt;p id=&quot;docs-internal-guid-e3d8…</td><td>&quot;скрыт&quot;</td><td>&quot;да&quot;</td><td>&quot;&quot;</td><td>&quot;&quot;</td><td>&quot;&quot;</td><td>&quot;Каталог ## Каталог/Хиты продаж…</td><td>null</td><td>&quot;RUR&quot;</td><td>&quot;Без НДС&quot;</td><td>&quot;упак&quot;</td><td>null</td><td>&quot;https://static.insales-cdn.com…</td><td>&quot;&quot;</td><td>637281965</td><td>&quot;CTA12&quot;</td><td>6970302520121</td><td>637281965</td><td>null</td><td>&quot;1590,0&quot;</td><td>&quot;&quot;</td><td>&quot;22,0&quot;</td><td>0</td><td>&quot;&quot;</td><td>&quot;&quot;</td><td>null</td><td>null</td><td>null</td><td>&quot;Хлопок&quot;</td><td>null</td><td>null</td><td>null</td><td>null</td><td>null</td><td>&quot;379534009&quot;</td></tr><tr><td>379534221</td><td>&quot;Короткие носки с рисунком для …</td><td>&quot;noski-detskie-dlya-devochek-12…</td><td>&quot;https://купитекстильоптом.рф/c…</td><td>&quot;&lt;p style=&quot;line-height: 1.38; m…</td><td>&quot;&lt;p id=&quot;docs-internal-guid-e3d8…</td><td>&quot;выставлен&quot;</td><td>&quot;да&quot;</td><td>&quot;&quot;</td><td>&quot;&quot;</td><td>&quot;&quot;</td><td>&quot;Каталог ## Каталог/Хиты продаж…</td><td>null</td><td>&quot;RUR&quot;</td><td>&quot;Без НДС&quot;</td><td>&quot;упак&quot;</td><td>null</td><td>&quot;https://static.insales-cdn.com…</td><td>&quot;&quot;</td><td>637282181</td><td>&quot;CTA06&quot;</td><td>null</td><td>637282181</td><td>null</td><td>&quot;1590,0&quot;</td><td>&quot;&quot;</td><td>&quot;22,0&quot;</td><td>998</td><td>&quot;&quot;</td><td>&quot;&quot;</td><td>&quot;ALINA&quot;</td><td>&quot;Китай&quot;</td><td>&quot;Девочки&quot;</td><td>&quot;Хлопок&quot;</td><td>&quot;Разноцветные##Яркие цвета микс&quot;</td><td>&quot;Круглогодичный##Лето&quot;</td><td>&quot;С рисунком##Фрукты&quot;</td><td>&quot;1-3 года##3-5 лет##5-7 лет&quot;</td><td>&quot;В работе&quot;</td><td>&quot;379534221&quot;</td></tr><tr><td>&hellip;</td><td>&hellip;</td><td>&hellip;</td><td>&hellip;</td><td>&hellip;</td><td>&hellip;</td><td>&hellip;</td><td>&hellip;</td><td>&hellip;</td><td>&hellip;</td><td>&hellip;</td><td>&hellip;</td><td>&hellip;</td><td>&hellip;</td><td>&hellip;</td><td>&hellip;</td><td>&hellip;</td><td>&hellip;</td><td>&hellip;</td><td>&hellip;</td><td>&hellip;</td><td>&hellip;</td><td>&hellip;</td><td>&hellip;</td><td>&hellip;</td><td>&hellip;</td><td>&hellip;</td><td>&hellip;</td><td>&hellip;</td><td>&hellip;</td><td>&hellip;</td><td>&hellip;</td><td>&hellip;</td><td>&hellip;</td><td>&hellip;</td><td>&hellip;</td><td>&hellip;</td><td>&hellip;</td><td>&hellip;</td><td>&hellip;</td></tr><tr><td>481311106</td><td>&quot;Детские носки из хлопка разног…</td><td>&quot;detskie-noski-iz-hlopka-raznog…</td><td>&quot;https://купитекстильоптом.рф/c…</td><td>&quot;&lt;p&gt;&lt;strong&gt;Состав&lt;/strong&gt;&lt;spa…</td><td>&quot;&quot;</td><td>&quot;выставлен&quot;</td><td>&quot;да&quot;</td><td>&quot;&quot;</td><td>&quot;&quot;</td><td>&quot;&quot;</td><td>&quot;Каталог ## Каталог/Хиты продаж…</td><td>null</td><td>&quot;RUR&quot;</td><td>&quot;Без НДС&quot;</td><td>&quot;упак&quot;</td><td>null</td><td>&quot;https://static.insales-cdn.com…</td><td>&quot;&quot;</td><td>804279161</td><td>&quot;СТМ 42&quot;</td><td>null</td><td>804279161</td><td>null</td><td>&quot;1590,0&quot;</td><td>&quot;&quot;</td><td>&quot;24,0&quot;</td><td>null</td><td>&quot;&quot;</td><td>&quot;&quot;</td><td>&quot;APOLLON&quot;</td><td>&quot;Китай&quot;</td><td>&quot;Мальчики&quot;</td><td>&quot;Хлопок&quot;</td><td>&quot;Разноцветные&quot;</td><td>&quot;Осень##Весна##Лето&quot;</td><td>&quot;Маленький рисунок&quot;</td><td>&quot;5-7 лет##7-9 лет##9-11 лет&quot;</td><td>null</td><td>&quot;&quot;</td></tr><tr><td>481311285</td><td>&quot;Детские носки из хлопка разног…</td><td>&quot;detskie-noski-iz-hlopka-raznog…</td><td>&quot;https://купитекстильоптом.рф/c…</td><td>&quot;&lt;p&gt;&lt;strong&gt;Состав&lt;/strong&gt;&lt;spa…</td><td>&quot;&quot;</td><td>&quot;выставлен&quot;</td><td>&quot;да&quot;</td><td>&quot;&quot;</td><td>&quot;&quot;</td><td>&quot;&quot;</td><td>&quot;Каталог/Хиты продаж ## Каталог…</td><td>null</td><td>&quot;RUR&quot;</td><td>&quot;Без НДС&quot;</td><td>&quot;упак&quot;</td><td>null</td><td>&quot;https://static.insales-cdn.com…</td><td>&quot;&quot;</td><td>804279462</td><td>&quot;СТМ 31&quot;</td><td>null</td><td>804279462</td><td>null</td><td>&quot;1590,0&quot;</td><td>&quot;&quot;</td><td>&quot;24,0&quot;</td><td>null</td><td>&quot;&quot;</td><td>&quot;&quot;</td><td>&quot;APOLLON&quot;</td><td>&quot;Китай&quot;</td><td>&quot;Мальчики&quot;</td><td>&quot;Хлопок&quot;</td><td>&quot;Разноцветные&quot;</td><td>&quot;Осень##Весна##Лето&quot;</td><td>&quot;Маленький рисунок&quot;</td><td>&quot;5-7 лет##7-9 лет##9-11 лет&quot;</td><td>null</td><td>&quot;&quot;</td></tr><tr><td>481311442</td><td>&quot;Носки детские цвета микс 30 па…</td><td>&quot;noski-detskie-tsveta-miks-30-p…</td><td>&quot;https://купитекстильоптом.рф/c…</td><td>&quot;&lt;p&gt;&lt;strong&gt;Состав&lt;/strong&gt;&lt;spa…</td><td>&quot;&quot;</td><td>&quot;выставлен&quot;</td><td>&quot;да&quot;</td><td>&quot;&quot;</td><td>&quot;&quot;</td><td>&quot;&quot;</td><td>&quot;Каталог ## Каталог/Детям/Носки…</td><td>null</td><td>&quot;RUR&quot;</td><td>&quot;Без НДС&quot;</td><td>&quot;упак&quot;</td><td>null</td><td>&quot;https://static.insales-cdn.com…</td><td>&quot;&quot;</td><td>804279791</td><td>&quot;СТМ 32&quot;</td><td>null</td><td>804279791</td><td>null</td><td>&quot;1590,0&quot;</td><td>&quot;&quot;</td><td>&quot;24,0&quot;</td><td>null</td><td>&quot;&quot;</td><td>&quot;&quot;</td><td>&quot;APOLLON&quot;</td><td>&quot;Китай&quot;</td><td>&quot;Мальчики&quot;</td><td>&quot;Хлопок&quot;</td><td>&quot;Разноцветные&quot;</td><td>&quot;Круглогодичный##Осень##Весна##…</td><td>&quot;Маленький рисунок&quot;</td><td>&quot;3-5 лет##5-7 лет##7-9 лет&quot;</td><td>null</td><td>&quot;&quot;</td></tr><tr><td>481311559</td><td>&quot;Носки детские цвета микс 30 па…</td><td>&quot;noski-detskie-tsveta-miks-30-p…</td><td>&quot;https://купитекстильоптом.рф/c…</td><td>&quot;&lt;p&gt;&lt;strong&gt;Состав&lt;/strong&gt;&lt;spa…</td><td>&quot;&quot;</td><td>&quot;выставлен&quot;</td><td>&quot;да&quot;</td><td>&quot;&quot;</td><td>&quot;&quot;</td><td>&quot;&quot;</td><td>&quot;Каталог ## Каталог/Детям/Носки…</td><td>null</td><td>&quot;RUR&quot;</td><td>&quot;Без НДС&quot;</td><td>&quot;упак&quot;</td><td>null</td><td>&quot;https://static.insales-cdn.com…</td><td>&quot;&quot;</td><td>804280165</td><td>&quot;СТМ 36&quot;</td><td>null</td><td>804280165</td><td>null</td><td>&quot;1590,0&quot;</td><td>&quot;&quot;</td><td>&quot;24,0&quot;</td><td>null</td><td>&quot;&quot;</td><td>&quot;&quot;</td><td>&quot;APOLLON&quot;</td><td>&quot;Китай&quot;</td><td>&quot;Мальчики&quot;</td><td>&quot;Хлопок&quot;</td><td>&quot;Разноцветные&quot;</td><td>&quot;Круглогодичный##Осень##Весна##…</td><td>&quot;Маленький рисунок&quot;</td><td>&quot;3-5 лет##5-7 лет##7-9 лет&quot;</td><td>null</td><td>&quot;&quot;</td></tr><tr><td>481311812</td><td>&quot;Носки детские цвета микс 30 па…</td><td>&quot;noski-detskie-tsveta-miks-30-p…</td><td>&quot;https://купитекстильоптом.рф/c…</td><td>&quot;&lt;p&gt;&lt;strong&gt;Состав&lt;/strong&gt;&lt;spa…</td><td>&quot;&quot;</td><td>&quot;выставлен&quot;</td><td>&quot;да&quot;</td><td>&quot;&quot;</td><td>&quot;&quot;</td><td>&quot;&quot;</td><td>&quot;Каталог/Детям/Носки для мальчи…</td><td>null</td><td>&quot;RUR&quot;</td><td>&quot;Без НДС&quot;</td><td>&quot;упак&quot;</td><td>null</td><td>&quot;https://static.insales-cdn.com…</td><td>&quot;&quot;</td><td>804280707</td><td>&quot;СТМ 41&quot;</td><td>null</td><td>804280707</td><td>null</td><td>&quot;1590,0&quot;</td><td>&quot;&quot;</td><td>&quot;24,0&quot;</td><td>null</td><td>&quot;&quot;</td><td>&quot;&quot;</td><td>&quot;APOLLON&quot;</td><td>&quot;Китай&quot;</td><td>&quot;Мальчики&quot;</td><td>&quot;Хлопок&quot;</td><td>&quot;Разноцветные&quot;</td><td>&quot;Круглогодичный##Осень##Весна##…</td><td>&quot;Маленький рисунок&quot;</td><td>&quot;1-3 года##3-5 лет##5-7 лет&quot;</td><td>null</td><td>&quot;&quot;</td></tr></tbody></table></div>"
      ],
      "text/plain": [
       "shape: (147, 40)\n",
       "┌───────────┬───────────┬───────────┬───────────┬───┬───────────┬───────────┬───────────┬──────────┐\n",
       "│ ID товара ┆ Название  ┆ Название  ┆ URL       ┆ … ┆ Параметр: ┆ Параметр: ┆ Параметр: ┆ Дополнит │\n",
       "│ ---       ┆ товара    ┆ товара в  ┆ ---       ┆   ┆ Рисунок   ┆ Размер    ┆ Честный   ┆ ельное   │\n",
       "│ i64       ┆ или       ┆ URL       ┆ str       ┆   ┆ ---       ┆ ---       ┆ знак      ┆ поле: ID │\n",
       "│           ┆ услуги    ┆ ---       ┆           ┆   ┆ str       ┆ str       ┆ ---       ┆ Мой Ск…  │\n",
       "│           ┆ ---       ┆ str       ┆           ┆   ┆           ┆           ┆ str       ┆ ---      │\n",
       "│           ┆ str       ┆           ┆           ┆   ┆           ┆           ┆           ┆ str      │\n",
       "╞═══════════╪═══════════╪═══════════╪═══════════╪═══╪═══════════╪═══════════╪═══════════╪══════════╡\n",
       "│ 379521759 ┆ Носки под ┆ noski-pod ┆ https://к ┆ … ┆ null      ┆ null      ┆ null      ┆ 37952175 │\n",
       "│           ┆ ростковые ┆ rostkovye ┆ упитексти ┆   ┆           ┆           ┆           ┆ 9        │\n",
       "│           ┆ белые 30  ┆ -belye-12 ┆ льоптом.р ┆   ┆           ┆           ┆           ┆          │\n",
       "│           ┆ па…       ┆ 0-p…      ┆ ф/c…      ┆   ┆           ┆           ┆           ┆          │\n",
       "│ 379524161 ┆ Носки     ┆ noski-det ┆ https://к ┆ … ┆ Без       ┆ 3-5       ┆ null      ┆ 37952416 │\n",
       "│           ┆ детские   ┆ skie-tsve ┆ упитексти ┆   ┆ рисунка   ┆ лет##5-7  ┆           ┆ 1        │\n",
       "│           ┆ цвета     ┆ ta-miks-1 ┆ льоптом.р ┆   ┆           ┆ лет##7-9  ┆           ┆          │\n",
       "│           ┆ микс 30   ┆ 20-…      ┆ ф/c…      ┆   ┆           ┆ лет       ┆           ┆          │\n",
       "│           ┆ па…       ┆           ┆           ┆   ┆           ┆           ┆           ┆          │\n",
       "│ 379525624 ┆ Носки под ┆ noski-pod ┆ https://к ┆ … ┆ null      ┆ null      ┆ null      ┆ 37952562 │\n",
       "│           ┆ ростковые ┆ rostkovye ┆ упитексти ┆   ┆           ┆           ┆           ┆ 4        │\n",
       "│           ┆ цвета     ┆ -tsveta-m ┆ льоптом.р ┆   ┆           ┆           ┆           ┆          │\n",
       "│           ┆ микс …    ┆ iks…      ┆ ф/c…      ┆   ┆           ┆           ┆           ┆          │\n",
       "│ 379534009 ┆ Хлопковые ┆ noski-pod ┆ https://к ┆ … ┆ null      ┆ null      ┆ null      ┆ 37953400 │\n",
       "│           ┆ носки для ┆ rostkovye ┆ упитексти ┆   ┆           ┆           ┆           ┆ 9        │\n",
       "│           ┆ девочек с ┆ -dlya-dev ┆ льоптом.р ┆   ┆           ┆           ┆           ┆          │\n",
       "│           ┆ …         ┆ och…      ┆ ф/c…      ┆   ┆           ┆           ┆           ┆          │\n",
       "│ 379534221 ┆ Короткие  ┆ noski-det ┆ https://к ┆ … ┆ С рисунко ┆ 1-3       ┆ В работе  ┆ 37953422 │\n",
       "│           ┆ носки с   ┆ skie-dlya ┆ упитексти ┆   ┆ м##Фрукты ┆ года##3-5 ┆           ┆ 1        │\n",
       "│           ┆ рисунком  ┆ -devochek ┆ льоптом.р ┆   ┆           ┆ лет##5-7  ┆           ┆          │\n",
       "│           ┆ для …     ┆ -12…      ┆ ф/c…      ┆   ┆           ┆ лет       ┆           ┆          │\n",
       "│ …         ┆ …         ┆ …         ┆ …         ┆ … ┆ …         ┆ …         ┆ …         ┆ …        │\n",
       "│ 481311106 ┆ Детские   ┆ detskie-n ┆ https://к ┆ … ┆ Маленький ┆ 5-7       ┆ null      ┆          │\n",
       "│           ┆ носки из  ┆ oski-iz-h ┆ упитексти ┆   ┆ рисунок   ┆ лет##7-9  ┆           ┆          │\n",
       "│           ┆ хлопка    ┆ lopka-raz ┆ льоптом.р ┆   ┆           ┆ лет##9-11 ┆           ┆          │\n",
       "│           ┆ разног…   ┆ nog…      ┆ ф/c…      ┆   ┆           ┆ лет       ┆           ┆          │\n",
       "│ 481311285 ┆ Детские   ┆ detskie-n ┆ https://к ┆ … ┆ Маленький ┆ 5-7       ┆ null      ┆          │\n",
       "│           ┆ носки из  ┆ oski-iz-h ┆ упитексти ┆   ┆ рисунок   ┆ лет##7-9  ┆           ┆          │\n",
       "│           ┆ хлопка    ┆ lopka-raz ┆ льоптом.р ┆   ┆           ┆ лет##9-11 ┆           ┆          │\n",
       "│           ┆ разног…   ┆ nog…      ┆ ф/c…      ┆   ┆           ┆ лет       ┆           ┆          │\n",
       "│ 481311442 ┆ Носки     ┆ noski-det ┆ https://к ┆ … ┆ Маленький ┆ 3-5       ┆ null      ┆          │\n",
       "│           ┆ детские   ┆ skie-tsve ┆ упитексти ┆   ┆ рисунок   ┆ лет##5-7  ┆           ┆          │\n",
       "│           ┆ цвета     ┆ ta-miks-3 ┆ льоптом.р ┆   ┆           ┆ лет##7-9  ┆           ┆          │\n",
       "│           ┆ микс 30   ┆ 0-p…      ┆ ф/c…      ┆   ┆           ┆ лет       ┆           ┆          │\n",
       "│           ┆ па…       ┆           ┆           ┆   ┆           ┆           ┆           ┆          │\n",
       "│ 481311559 ┆ Носки     ┆ noski-det ┆ https://к ┆ … ┆ Маленький ┆ 3-5       ┆ null      ┆          │\n",
       "│           ┆ детские   ┆ skie-tsve ┆ упитексти ┆   ┆ рисунок   ┆ лет##5-7  ┆           ┆          │\n",
       "│           ┆ цвета     ┆ ta-miks-3 ┆ льоптом.р ┆   ┆           ┆ лет##7-9  ┆           ┆          │\n",
       "│           ┆ микс 30   ┆ 0-p…      ┆ ф/c…      ┆   ┆           ┆ лет       ┆           ┆          │\n",
       "│           ┆ па…       ┆           ┆           ┆   ┆           ┆           ┆           ┆          │\n",
       "│ 481311812 ┆ Носки     ┆ noski-det ┆ https://к ┆ … ┆ Маленький ┆ 1-3       ┆ null      ┆          │\n",
       "│           ┆ детские   ┆ skie-tsve ┆ упитексти ┆   ┆ рисунок   ┆ года##3-5 ┆           ┆          │\n",
       "│           ┆ цвета     ┆ ta-miks-3 ┆ льоптом.р ┆   ┆           ┆ лет##5-7  ┆           ┆          │\n",
       "│           ┆ микс 30   ┆ 0-p…      ┆ ф/c…      ┆   ┆           ┆ лет       ┆           ┆          │\n",
       "│           ┆ па…       ┆           ┆           ┆   ┆           ┆           ┆           ┆          │\n",
       "└───────────┴───────────┴───────────┴───────────┴───┴───────────┴───────────┴───────────┴──────────┘"
      ]
     },
     "execution_count": 7,
     "metadata": {},
     "output_type": "execute_result"
    }
   ],
   "source": [
    "import polars as pl\n",
    "\n",
    "df = pl.read_csv('shopdata.csv', separator='\t')\n",
    "df"
   ]
  },
  {
   "cell_type": "code",
   "execution_count": 8,
   "metadata": {},
   "outputs": [
    {
     "name": "stderr",
     "output_type": "stream",
     "text": [
      "c:\\Users\\krakotay\\Documents\\python\\ai-for-sales\\.venv\\Lib\\site-packages\\xlsxwriter\\worksheet.py:1291: UserWarning: Ignoring URL 'https://static.insales-cdn.com/images/products/1/5145/922981401/Изображение_WhatsApp_2024-10-14_в_12.56.14_93296e57.jpg%20https://static.insales-cdn.com/images/products/1/5225/943453289/1-Photoroom.jpg%20https://static.insales-cdn.com/images/products/1/5226/943453290/2-Photoroom.jpg%20https://static.insales-cdn.com/images/products/1/5227/943453291/3-Photoroom.jpg%20https://static.insales-cdn.com/images/products/1/5228/943453292/4-Photoroom.jpg%20https://static.insales-cdn.com/images/products/1/5229/943453293/5-Photoroom.jpg%20https://static.insales-cdn.com/images/products/1/5230/943453294/6-Photoroom.jpg%20https://static.insales-cdn.com/images/products/1/5231/943453295/7-Photoroom.jpg%20https://static.insales-cdn.com/images/products/1/5232/943453296/8-Photoroom.jpg%20https://static.insales-cdn.com/images/products/1/5233/943453297/9-Photoroom.jpg%20https://static.insales-cdn.com/images/products/1/5235/943453299/10-Photoroom.jpg%20https://static.insales-cdn.com/images/products/1/5236/943453300/11-Photoroom.jpg%20https://static.insales-cdn.com/images/products/1/5237/943453301/12-Photoroom.jpg%20https://static.insales-cdn.com/images/products/1/5238/943453302/13-Photoroom.jpg%20https://static.insales-cdn.com/images/products/1/5239/943453303/14-Photoroom.jpg%20https://static.insales-cdn.com/images/products/1/5240/943453304/15-Photoroom.jpg%20https://static.insales-cdn.com/images/products/1/5241/943453305/16-Photoroom.jpg%20https://static.insales-cdn.com/images/products/1/5242/943453306/17-Photoroom.jpg%20https://static.insales-cdn.com/images/products/1/5243/943453307/18-Photoroom.jpg%20https://static.insales-cdn.com/images/products/1/5244/943453308/19-Photoroom.jpg%20https://static.insales-cdn.com/images/products/1/5245/943453309/20-Photoroom.jpg%20https://static.insales-cdn.com/images/products/1/5247/943453311/21-Photoroom.jpg%20https://static.insales-cdn.com/images/products/1/5248/943453312/22-Photoroom.jpg%20https://static.insales-cdn.com/images/products/1/5249/943453313/23-Photoroom.jpg%20https://static.insales-cdn.com/images/products/1/5250/943453314/24-Photoroom.jpg' with link or location/anchor > 2079 characters since it exceeds Excel's limit for URLs.\n",
      "  warn(\n"
     ]
    },
    {
     "data": {
      "text/plain": [
       "<xlsxwriter.workbook.Workbook at 0xc18cef0>"
      ]
     },
     "execution_count": 8,
     "metadata": {},
     "output_type": "execute_result"
    }
   ],
   "source": [
    "df.write_excel('shopdata.xlsx')"
   ]
  }
 ],
 "metadata": {
  "kernelspec": {
   "display_name": ".venv",
   "language": "python",
   "name": "python3"
  },
  "language_info": {
   "codemirror_mode": {
    "name": "ipython",
    "version": 3
   },
   "file_extension": ".py",
   "mimetype": "text/x-python",
   "name": "python",
   "nbconvert_exporter": "python",
   "pygments_lexer": "ipython3",
   "version": "3.12.7"
  }
 },
 "nbformat": 4,
 "nbformat_minor": 2
}
