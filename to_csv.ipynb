{
 "cells": [
  {
   "cell_type": "code",
   "execution_count": 2,
   "metadata": {},
   "outputs": [],
   "source": [
    "import polars as pl\n",
    "df = pl.read_excel('rag.xlsx')"
   ]
  },
  {
   "cell_type": "code",
   "execution_count": 3,
   "metadata": {},
   "outputs": [
    {
     "data": {
      "text/html": [
       "<div><style>\n",
       ".dataframe > thead > tr,\n",
       ".dataframe > tbody > tr {\n",
       "  text-align: right;\n",
       "  white-space: pre-wrap;\n",
       "}\n",
       "</style>\n",
       "<small>shape: (88, 2)</small><table border=\"1\" class=\"dataframe\"><thead><tr><th>questions</th><th>example</th></tr><tr><td>str</td><td>str</td></tr></thead><tbody><tr><td>&quot;В подпунктах в описании распол…</td><td>&quot;Клиента интересует запчасть: Ф…</td></tr><tr><td>&quot;Если клиент сразу озвучил осно…</td><td>&quot;клиент пишет: &quot;Нужна АКПП, кор…</td></tr><tr><td>&quot;Все вопросы из п. 1.4 необходи…</td><td>&quot;В инструкции написано: &quot;Если н…</td></tr><tr><td>&quot;Если клиент задает сразу неско…</td><td>&quot;Клиент пишет: &quot;мне нужна левая…</td></tr><tr><td>&quot;Если к запчасти дают уточнения…</td><td>&quot;Клиент пишет:\r\n",
       "&quot;Нужен правый к…</td></tr><tr><td>&hellip;</td><td>&hellip;</td></tr><tr><td>&quot;Запчасть: трубка гур&quot;</td><td>&quot;1: Год выпуска: Каков год выпу…</td></tr><tr><td>&quot;Запчасть: фонарь задний дорест…</td><td>&quot;Если до 99 то - скорее всего у…</td></tr><tr><td>&quot;Запчасть: Фонарь задний правый&quot;</td><td>&quot;1: Фонари у вас красно белые и…</td></tr><tr><td>&quot;Запчасть: фонарь задний рестай…</td><td>&quot;1: Если после 99 то - скорее в…</td></tr><tr><td>&quot;Запчасть: хабы&quot;</td><td>&quot;1: вам механические, автоматы …</td></tr></tbody></table></div>"
      ],
      "text/plain": [
       "shape: (88, 2)\n",
       "┌─────────────────────────────────┬─────────────────────────────────┐\n",
       "│ questions                       ┆ example                         │\n",
       "│ ---                             ┆ ---                             │\n",
       "│ str                             ┆ str                             │\n",
       "╞═════════════════════════════════╪═════════════════════════════════╡\n",
       "│ В подпунктах в описании распол… ┆ Клиента интересует запчасть: Ф… │\n",
       "│ Если клиент сразу озвучил осно… ┆ клиент пишет: \"Нужна АКПП, кор… │\n",
       "│ Все вопросы из п. 1.4 необходи… ┆ В инструкции написано: \"Если н… │\n",
       "│ Если клиент задает сразу неско… ┆ Клиент пишет: \"мне нужна левая… │\n",
       "│ Если к запчасти дают уточнения… ┆ Клиент пишет:\n",
       "                  │\n",
       "│                                 ┆ \"Нужен правый к…                │\n",
       "│ …                               ┆ …                               │\n",
       "│ Запчасть: трубка гур            ┆ 1: Год выпуска: Каков год выпу… │\n",
       "│ Запчасть: фонарь задний дорест… ┆ Если до 99 то - скорее всего у… │\n",
       "│ Запчасть: Фонарь задний правый  ┆ 1: Фонари у вас красно белые и… │\n",
       "│ Запчасть: фонарь задний рестай… ┆ 1: Если после 99 то - скорее в… │\n",
       "│ Запчасть: хабы                  ┆ 1: вам механические, автоматы … │\n",
       "└─────────────────────────────────┴─────────────────────────────────┘"
      ]
     },
     "execution_count": 3,
     "metadata": {},
     "output_type": "execute_result"
    }
   ],
   "source": [
    "df"
   ]
  },
  {
   "cell_type": "code",
   "execution_count": 4,
   "metadata": {},
   "outputs": [],
   "source": [
    "df.write_csv('rag.csv')"
   ]
  },
  {
   "cell_type": "code",
   "execution_count": 5,
   "metadata": {},
   "outputs": [
    {
     "data": {
      "text/plain": [
       "Schema([('questions', String), ('example', String)])"
      ]
     },
     "execution_count": 5,
     "metadata": {},
     "output_type": "execute_result"
    }
   ],
   "source": [
    "df.schema"
   ]
  }
 ],
 "metadata": {
  "kernelspec": {
   "display_name": ".venv",
   "language": "python",
   "name": "python3"
  },
  "language_info": {
   "codemirror_mode": {
    "name": "ipython",
    "version": 3
   },
   "file_extension": ".py",
   "mimetype": "text/x-python",
   "name": "python",
   "nbconvert_exporter": "python",
   "pygments_lexer": "ipython3",
   "version": "3.12.7"
  }
 },
 "nbformat": 4,
 "nbformat_minor": 2
}
