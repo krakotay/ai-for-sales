{
 "cells": [
  {
   "cell_type": "code",
   "execution_count": 1,
   "metadata": {},
   "outputs": [
    {
     "data": {
      "text/plain": [
       "True"
      ]
     },
     "execution_count": 1,
     "metadata": {},
     "output_type": "execute_result"
    }
   ],
   "source": [
    "from sqlalchemy import create_engine, text\n",
    "from urllib.parse import urlparse\n",
    "import os\n",
    "import polars as pl\n",
    "from dotenv import load_dotenv\n",
    "load_dotenv()"
   ]
  },
  {
   "cell_type": "code",
   "execution_count": 2,
   "metadata": {},
   "outputs": [],
   "source": [
    "\n",
    "# Подключение к PostgreSQL\n",
    "tmpPostgres = urlparse(os.getenv(\"DATABASE_URL\"))\n",
    "\n",
    "# Синхронный движок для PostgreSQL\n",
    "engine = create_engine(\n",
    "    f\"postgresql://{tmpPostgres.username}:{tmpPostgres.password}@{tmpPostgres.hostname}{tmpPostgres.path}?sslmode=require\",\n",
    "    echo=True\n",
    ")"
   ]
  },
  {
   "cell_type": "code",
   "execution_count": 3,
   "metadata": {},
   "outputs": [
    {
     "name": "stdout",
     "output_type": "stream",
     "text": [
      "2025-03-30 13:05:19,768 INFO sqlalchemy.engine.Engine select pg_catalog.version()\n",
      "2025-03-30 13:05:19,770 INFO sqlalchemy.engine.Engine [raw sql] {}\n",
      "2025-03-30 13:05:19,865 INFO sqlalchemy.engine.Engine select current_schema()\n",
      "2025-03-30 13:05:19,866 INFO sqlalchemy.engine.Engine [raw sql] {}\n",
      "2025-03-30 13:05:19,962 INFO sqlalchemy.engine.Engine show standard_conforming_strings\n",
      "2025-03-30 13:05:19,963 INFO sqlalchemy.engine.Engine [raw sql] {}\n",
      "2025-03-30 13:05:20,058 INFO sqlalchemy.engine.Engine BEGIN (implicit)\n",
      "2025-03-30 13:05:20,118 INFO sqlalchemy.engine.Engine SELECT * FROM warehouse;\n",
      "2025-03-30 13:05:20,118 INFO sqlalchemy.engine.Engine [generated in 0.00049s] {}\n",
      "2025-03-30 13:05:20,264 INFO sqlalchemy.engine.Engine COMMIT\n"
     ]
    },
    {
     "data": {
      "text/html": [
       "<div><style>\n",
       ".dataframe > thead > tr,\n",
       ".dataframe > tbody > tr {\n",
       "  text-align: right;\n",
       "  white-space: pre-wrap;\n",
       "}\n",
       "</style>\n",
       "<small>shape: (294, 5)</small><table border=\"1\" class=\"dataframe\"><thead><tr><th>index</th><th>name</th><th>value</th><th>price</th><th>comments</th></tr><tr><td>i64</td><td>str</td><td>i64</td><td>str</td><td>str</td></tr></thead><tbody><tr><td>0</td><td>&quot;Абсорбер (фильтр угольный)&quot;</td><td>10</td><td>&quot;1500&quot;</td><td>null</td></tr><tr><td>1</td><td>&quot;аморты задние&quot;</td><td>10</td><td>&quot;3000&quot;</td><td>null</td></tr><tr><td>2</td><td>&quot;бампер задний коротыш дорестай…</td><td>0</td><td>&quot;3000&quot;</td><td>null</td></tr><tr><td>3</td><td>&quot;бампер задний коротыш рестайл …</td><td>10</td><td>&quot;3000&quot;</td><td>null</td></tr><tr><td>4</td><td>&quot;бампер передний дорестайл глад…</td><td>0</td><td>&quot;7500&quot;</td><td>null</td></tr><tr><td>&hellip;</td><td>&hellip;</td><td>&hellip;</td><td>&hellip;</td><td>&hellip;</td></tr><tr><td>289</td><td>&quot;хабы автоматы&quot;</td><td>10</td><td>&quot;6000-9000&quot;</td><td>null</td></tr><tr><td>290</td><td>&quot;хабы вакуум&quot;</td><td>0</td><td>&quot;6000-9000&quot;</td><td>null</td></tr><tr><td>291</td><td>&quot;хабы механика&quot;</td><td>0</td><td>&quot;6000-9000&quot;</td><td>null</td></tr><tr><td>292</td><td>&quot;шрус внутренний, шрус наружный&quot;</td><td>10</td><td>&quot;6000&quot;</td><td>null</td></tr><tr><td>293</td><td>&quot;эбу синий + иммобилайзер + клю…</td><td>0</td><td>&quot;12000&quot;</td><td>null</td></tr></tbody></table></div>"
      ],
      "text/plain": [
       "shape: (294, 5)\n",
       "┌───────┬─────────────────────────────────┬───────┬───────────┬──────────┐\n",
       "│ index ┆ name                            ┆ value ┆ price     ┆ comments │\n",
       "│ ---   ┆ ---                             ┆ ---   ┆ ---       ┆ ---      │\n",
       "│ i64   ┆ str                             ┆ i64   ┆ str       ┆ str      │\n",
       "╞═══════╪═════════════════════════════════╪═══════╪═══════════╪══════════╡\n",
       "│ 0     ┆ Абсорбер (фильтр угольный)      ┆ 10    ┆ 1500      ┆ null     │\n",
       "│ 1     ┆ аморты задние                   ┆ 10    ┆ 3000      ┆ null     │\n",
       "│ 2     ┆ бампер задний коротыш дорестай… ┆ 0     ┆ 3000      ┆ null     │\n",
       "│ 3     ┆ бампер задний коротыш рестайл … ┆ 10    ┆ 3000      ┆ null     │\n",
       "│ 4     ┆ бампер передний дорестайл глад… ┆ 0     ┆ 7500      ┆ null     │\n",
       "│ …     ┆ …                               ┆ …     ┆ …         ┆ …        │\n",
       "│ 289   ┆ хабы автоматы                   ┆ 10    ┆ 6000-9000 ┆ null     │\n",
       "│ 290   ┆ хабы вакуум                     ┆ 0     ┆ 6000-9000 ┆ null     │\n",
       "│ 291   ┆ хабы механика                   ┆ 0     ┆ 6000-9000 ┆ null     │\n",
       "│ 292   ┆ шрус внутренний, шрус наружный  ┆ 10    ┆ 6000      ┆ null     │\n",
       "│ 293   ┆ эбу синий + иммобилайзер + клю… ┆ 0     ┆ 12000     ┆ null     │\n",
       "└───────┴─────────────────────────────────┴───────┴───────────┴──────────┘"
      ]
     },
     "execution_count": 3,
     "metadata": {},
     "output_type": "execute_result"
    }
   ],
   "source": [
    "with engine.begin() as conn:\n",
    "    df = pl.read_database(text(\"SELECT * FROM warehouse;\"), conn, infer_schema_length=10000)\n",
    "df"
   ]
  },
  {
   "cell_type": "code",
   "execution_count": 4,
   "metadata": {},
   "outputs": [
    {
     "data": {
      "text/html": [
       "<div><style>\n",
       ".dataframe > thead > tr,\n",
       ".dataframe > tbody > tr {\n",
       "  text-align: right;\n",
       "  white-space: pre-wrap;\n",
       "}\n",
       "</style>\n",
       "<small>shape: (294, 6)</small><table border=\"1\" class=\"dataframe\"><thead><tr><th>index</th><th>name</th><th>value</th><th>price</th><th>comments</th><th>check_stock_availability</th></tr><tr><td>i64</td><td>str</td><td>i64</td><td>str</td><td>str</td><td>bool</td></tr></thead><tbody><tr><td>0</td><td>&quot;Абсорбер (фильтр угольный)&quot;</td><td>10</td><td>&quot;1500&quot;</td><td>null</td><td>false</td></tr><tr><td>1</td><td>&quot;аморты задние&quot;</td><td>10</td><td>&quot;3000&quot;</td><td>null</td><td>false</td></tr><tr><td>2</td><td>&quot;бампер задний коротыш дорестай…</td><td>0</td><td>&quot;3000&quot;</td><td>null</td><td>false</td></tr><tr><td>3</td><td>&quot;бампер задний коротыш рестайл …</td><td>10</td><td>&quot;3000&quot;</td><td>null</td><td>false</td></tr><tr><td>4</td><td>&quot;бампер передний дорестайл глад…</td><td>0</td><td>&quot;7500&quot;</td><td>null</td><td>false</td></tr><tr><td>&hellip;</td><td>&hellip;</td><td>&hellip;</td><td>&hellip;</td><td>&hellip;</td><td>&hellip;</td></tr><tr><td>289</td><td>&quot;хабы автоматы&quot;</td><td>10</td><td>&quot;6000-9000&quot;</td><td>null</td><td>false</td></tr><tr><td>290</td><td>&quot;хабы вакуум&quot;</td><td>0</td><td>&quot;6000-9000&quot;</td><td>null</td><td>true</td></tr><tr><td>291</td><td>&quot;хабы механика&quot;</td><td>0</td><td>&quot;6000-9000&quot;</td><td>null</td><td>true</td></tr><tr><td>292</td><td>&quot;шрус внутренний, шрус наружный&quot;</td><td>10</td><td>&quot;6000&quot;</td><td>null</td><td>false</td></tr><tr><td>293</td><td>&quot;эбу синий + иммобилайзер + клю…</td><td>0</td><td>&quot;12000&quot;</td><td>null</td><td>false</td></tr></tbody></table></div>"
      ],
      "text/plain": [
       "shape: (294, 6)\n",
       "┌───────┬────────────────────────────────┬───────┬───────────┬──────────┬──────────────────────────┐\n",
       "│ index ┆ name                           ┆ value ┆ price     ┆ comments ┆ check_stock_availability │\n",
       "│ ---   ┆ ---                            ┆ ---   ┆ ---       ┆ ---      ┆ ---                      │\n",
       "│ i64   ┆ str                            ┆ i64   ┆ str       ┆ str      ┆ bool                     │\n",
       "╞═══════╪════════════════════════════════╪═══════╪═══════════╪══════════╪══════════════════════════╡\n",
       "│ 0     ┆ Абсорбер (фильтр угольный)     ┆ 10    ┆ 1500      ┆ null     ┆ false                    │\n",
       "│ 1     ┆ аморты задние                  ┆ 10    ┆ 3000      ┆ null     ┆ false                    │\n",
       "│ 2     ┆ бампер задний коротыш          ┆ 0     ┆ 3000      ┆ null     ┆ false                    │\n",
       "│       ┆ дорестай…                      ┆       ┆           ┆          ┆                          │\n",
       "│ 3     ┆ бампер задний коротыш рестайл  ┆ 10    ┆ 3000      ┆ null     ┆ false                    │\n",
       "│       ┆ …                              ┆       ┆           ┆          ┆                          │\n",
       "│ 4     ┆ бампер передний дорестайл      ┆ 0     ┆ 7500      ┆ null     ┆ false                    │\n",
       "│       ┆ глад…                          ┆       ┆           ┆          ┆                          │\n",
       "│ …     ┆ …                              ┆ …     ┆ …         ┆ …        ┆ …                        │\n",
       "│ 289   ┆ хабы автоматы                  ┆ 10    ┆ 6000-9000 ┆ null     ┆ false                    │\n",
       "│ 290   ┆ хабы вакуум                    ┆ 0     ┆ 6000-9000 ┆ null     ┆ true                     │\n",
       "│ 291   ┆ хабы механика                  ┆ 0     ┆ 6000-9000 ┆ null     ┆ true                     │\n",
       "│ 292   ┆ шрус внутренний, шрус наружный ┆ 10    ┆ 6000      ┆ null     ┆ false                    │\n",
       "│ 293   ┆ эбу синий + иммобилайзер +     ┆ 0     ┆ 12000     ┆ null     ┆ false                    │\n",
       "│       ┆ клю…                           ┆       ┆           ┆          ┆                          │\n",
       "└───────┴────────────────────────────────┴───────┴───────────┴──────────┴──────────────────────────┘"
      ]
     },
     "execution_count": 4,
     "metadata": {},
     "output_type": "execute_result"
    }
   ],
   "source": [
    "new_df = df.with_columns(\n",
    "    (pl.all_horizontal(pl.col('price').str.contains('-'), pl.col('value') == 0)).alias('check_stock_availability')\n",
    ")\n",
    "new_df"
   ]
  },
  {
   "cell_type": "code",
   "execution_count": 5,
   "metadata": {},
   "outputs": [
    {
     "name": "stdout",
     "output_type": "stream",
     "text": [
      "2025-03-30 13:05:23,234 INFO sqlalchemy.engine.Engine select pg_catalog.version()\n",
      "2025-03-30 13:05:23,236 INFO sqlalchemy.engine.Engine [raw sql] {}\n",
      "2025-03-30 13:05:23,326 INFO sqlalchemy.engine.Engine select current_schema()\n",
      "2025-03-30 13:05:23,327 INFO sqlalchemy.engine.Engine [raw sql] {}\n",
      "2025-03-30 13:05:23,418 INFO sqlalchemy.engine.Engine show standard_conforming_strings\n",
      "2025-03-30 13:05:23,419 INFO sqlalchemy.engine.Engine [raw sql] {}\n",
      "2025-03-30 13:05:23,509 INFO sqlalchemy.engine.Engine BEGIN (implicit)\n",
      "2025-03-30 13:05:25,148 INFO sqlalchemy.engine.Engine SELECT pg_catalog.pg_class.relname \n",
      "FROM pg_catalog.pg_class JOIN pg_catalog.pg_namespace ON pg_catalog.pg_namespace.oid = pg_catalog.pg_class.relnamespace \n",
      "WHERE pg_catalog.pg_class.relname = %(table_name)s AND pg_catalog.pg_class.relkind = ANY (ARRAY[%(param_1)s, %(param_2)s, %(param_3)s, %(param_4)s, %(param_5)s]) AND pg_catalog.pg_table_is_visible(pg_catalog.pg_class.oid) AND pg_catalog.pg_namespace.nspname != %(nspname_1)s\n",
      "2025-03-30 13:05:25,148 INFO sqlalchemy.engine.Engine [generated in 0.00067s] {'table_name': 'warehouse', 'param_1': 'r', 'param_2': 'p', 'param_3': 'f', 'param_4': 'v', 'param_5': 'm', 'nspname_1': 'pg_catalog'}\n",
      "2025-03-30 13:05:25,254 INFO sqlalchemy.engine.Engine SELECT pg_catalog.pg_class.relname \n",
      "FROM pg_catalog.pg_class JOIN pg_catalog.pg_namespace ON pg_catalog.pg_namespace.oid = pg_catalog.pg_class.relnamespace \n",
      "WHERE pg_catalog.pg_class.relname = %(table_name)s AND pg_catalog.pg_class.relkind = ANY (ARRAY[%(param_1)s, %(param_2)s, %(param_3)s, %(param_4)s, %(param_5)s]) AND pg_catalog.pg_table_is_visible(pg_catalog.pg_class.oid) AND pg_catalog.pg_namespace.nspname != %(nspname_1)s\n",
      "2025-03-30 13:05:25,255 INFO sqlalchemy.engine.Engine [cached since 0.1074s ago] {'table_name': 'warehouse', 'param_1': 'r', 'param_2': 'p', 'param_3': 'f', 'param_4': 'v', 'param_5': 'm', 'nspname_1': 'pg_catalog'}\n",
      "2025-03-30 13:05:25,303 INFO sqlalchemy.engine.Engine SELECT pg_catalog.pg_class.relname \n",
      "FROM pg_catalog.pg_class JOIN pg_catalog.pg_namespace ON pg_catalog.pg_namespace.oid = pg_catalog.pg_class.relnamespace \n",
      "WHERE pg_catalog.pg_class.relkind = ANY (ARRAY[%(param_1)s, %(param_2)s]) AND pg_catalog.pg_class.relpersistence != %(relpersistence_1)s AND pg_catalog.pg_table_is_visible(pg_catalog.pg_class.oid) AND pg_catalog.pg_namespace.nspname != %(nspname_1)s\n",
      "2025-03-30 13:05:25,305 INFO sqlalchemy.engine.Engine [generated in 0.00162s] {'param_1': 'r', 'param_2': 'p', 'relpersistence_1': 't', 'nspname_1': 'pg_catalog'}\n",
      "2025-03-30 13:05:25,354 INFO sqlalchemy.engine.Engine SELECT pg_catalog.pg_class.relname \n",
      "FROM pg_catalog.pg_class JOIN pg_catalog.pg_namespace ON pg_catalog.pg_namespace.oid = pg_catalog.pg_class.relnamespace \n",
      "WHERE pg_catalog.pg_class.relkind = ANY (ARRAY[%(param_1)s]) AND pg_catalog.pg_class.relpersistence != %(relpersistence_1)s AND pg_catalog.pg_table_is_visible(pg_catalog.pg_class.oid) AND pg_catalog.pg_namespace.nspname != %(nspname_1)s\n",
      "2025-03-30 13:05:25,355 INFO sqlalchemy.engine.Engine [generated in 0.00061s] {'param_1': 'v', 'relpersistence_1': 't', 'nspname_1': 'pg_catalog'}\n",
      "2025-03-30 13:05:25,401 INFO sqlalchemy.engine.Engine SELECT pg_catalog.pg_class.relname \n",
      "FROM pg_catalog.pg_class JOIN pg_catalog.pg_namespace ON pg_catalog.pg_namespace.oid = pg_catalog.pg_class.relnamespace \n",
      "WHERE pg_catalog.pg_class.relkind = ANY (ARRAY[%(param_1)s]) AND pg_catalog.pg_class.relpersistence != %(relpersistence_1)s AND pg_catalog.pg_table_is_visible(pg_catalog.pg_class.oid) AND pg_catalog.pg_namespace.nspname != %(nspname_1)s\n",
      "2025-03-30 13:05:25,401 INFO sqlalchemy.engine.Engine [cached since 0.04726s ago] {'param_1': 'm', 'relpersistence_1': 't', 'nspname_1': 'pg_catalog'}\n",
      "2025-03-30 13:05:25,454 INFO sqlalchemy.engine.Engine SELECT pg_catalog.pg_attribute.attname AS name, pg_catalog.format_type(pg_catalog.pg_attribute.atttypid, pg_catalog.pg_attribute.atttypmod) AS format_type, (SELECT pg_catalog.pg_get_expr(pg_catalog.pg_attrdef.adbin, pg_catalog.pg_attrdef.adrelid) AS pg_get_expr_1 \n",
      "FROM pg_catalog.pg_attrdef \n",
      "WHERE pg_catalog.pg_attrdef.adrelid = pg_catalog.pg_attribute.attrelid AND pg_catalog.pg_attrdef.adnum = pg_catalog.pg_attribute.attnum AND pg_catalog.pg_attribute.atthasdef) AS \"default\", pg_catalog.pg_attribute.attnotnull AS not_null, pg_catalog.pg_class.relname AS table_name, pg_catalog.pg_description.description AS comment, pg_catalog.pg_attribute.attgenerated AS generated, (SELECT json_build_object(%(json_build_object_2)s, pg_catalog.pg_attribute.attidentity = %(attidentity_1)s, %(json_build_object_3)s, pg_catalog.pg_sequence.seqstart, %(json_build_object_4)s, pg_catalog.pg_sequence.seqincrement, %(json_build_object_5)s, pg_catalog.pg_sequence.seqmin, %(json_build_object_6)s, pg_catalog.pg_sequence.seqmax, %(json_build_object_7)s, pg_catalog.pg_sequence.seqcache, %(json_build_object_8)s, pg_catalog.pg_sequence.seqcycle) AS json_build_object_1 \n",
      "FROM pg_catalog.pg_sequence \n",
      "WHERE pg_catalog.pg_attribute.attidentity != %(attidentity_2)s AND pg_catalog.pg_sequence.seqrelid = CAST(CAST(pg_catalog.pg_get_serial_sequence(CAST(CAST(pg_catalog.pg_attribute.attrelid AS REGCLASS) AS TEXT), pg_catalog.pg_attribute.attname) AS REGCLASS) AS OID)) AS identity_options \n",
      "FROM pg_catalog.pg_class LEFT OUTER JOIN pg_catalog.pg_attribute ON pg_catalog.pg_class.oid = pg_catalog.pg_attribute.attrelid AND pg_catalog.pg_attribute.attnum > %(attnum_1)s AND NOT pg_catalog.pg_attribute.attisdropped LEFT OUTER JOIN pg_catalog.pg_description ON pg_catalog.pg_description.objoid = pg_catalog.pg_attribute.attrelid AND pg_catalog.pg_description.objsubid = pg_catalog.pg_attribute.attnum JOIN pg_catalog.pg_namespace ON pg_catalog.pg_namespace.oid = pg_catalog.pg_class.relnamespace \n",
      "WHERE pg_catalog.pg_class.relkind = ANY (ARRAY[%(param_1)s, %(param_2)s, %(param_3)s, %(param_4)s, %(param_5)s]) AND pg_catalog.pg_table_is_visible(pg_catalog.pg_class.oid) AND pg_catalog.pg_namespace.nspname != %(nspname_1)s AND pg_catalog.pg_class.relname IN (%(filter_names_1)s) ORDER BY pg_catalog.pg_class.relname, pg_catalog.pg_attribute.attnum\n",
      "2025-03-30 13:05:25,456 INFO sqlalchemy.engine.Engine [generated in 0.00150s] {'json_build_object_2': 'always', 'attidentity_1': 'a', 'json_build_object_3': 'start', 'json_build_object_4': 'increment', 'json_build_object_5': 'minvalue', 'json_build_object_6': 'maxvalue', 'json_build_object_7': 'cache', 'json_build_object_8': 'cycle', 'attidentity_2': '', 'attnum_1': 0, 'param_1': 'r', 'param_2': 'p', 'param_3': 'f', 'param_4': 'v', 'param_5': 'm', 'nspname_1': 'pg_catalog', 'filter_names_1': 'warehouse'}\n",
      "2025-03-30 13:05:25,529 INFO sqlalchemy.engine.Engine SELECT pg_catalog.pg_type.typname AS name, pg_catalog.format_type(pg_catalog.pg_type.typbasetype, pg_catalog.pg_type.typtypmod) AS attype, NOT pg_catalog.pg_type.typnotnull AS nullable, pg_catalog.pg_type.typdefault AS \"default\", pg_catalog.pg_type_is_visible(pg_catalog.pg_type.oid) AS visible, pg_catalog.pg_namespace.nspname AS schema, domain_constraints.condefs, domain_constraints.connames, pg_catalog.pg_collation.collname \n",
      "FROM pg_catalog.pg_type JOIN pg_catalog.pg_namespace ON pg_catalog.pg_namespace.oid = pg_catalog.pg_type.typnamespace LEFT OUTER JOIN pg_catalog.pg_collation ON pg_catalog.pg_type.typcollation = pg_catalog.pg_collation.oid LEFT OUTER JOIN (SELECT pg_catalog.pg_constraint.contypid AS contypid, array_agg(pg_catalog.pg_get_constraintdef(pg_catalog.pg_constraint.oid, %(pg_get_constraintdef_1)s)) AS condefs, array_agg(CAST(pg_catalog.pg_constraint.conname AS TEXT)) AS connames \n",
      "FROM pg_catalog.pg_constraint \n",
      "WHERE pg_catalog.pg_constraint.contypid != %(contypid_1)s GROUP BY pg_catalog.pg_constraint.contypid) AS domain_constraints ON pg_catalog.pg_type.oid = domain_constraints.contypid \n",
      "WHERE pg_catalog.pg_type.typtype = %(typtype_1)s ORDER BY pg_catalog.pg_namespace.nspname, pg_catalog.pg_type.typname\n",
      "2025-03-30 13:05:25,531 INFO sqlalchemy.engine.Engine [generated in 0.00171s] {'pg_get_constraintdef_1': True, 'contypid_1': 0, 'typtype_1': 'd'}\n",
      "2025-03-30 13:05:25,601 INFO sqlalchemy.engine.Engine SELECT pg_catalog.pg_type.typname AS name, pg_catalog.pg_type_is_visible(pg_catalog.pg_type.oid) AS visible, pg_catalog.pg_namespace.nspname AS schema, lbl_agg.labels AS labels \n",
      "FROM pg_catalog.pg_type JOIN pg_catalog.pg_namespace ON pg_catalog.pg_namespace.oid = pg_catalog.pg_type.typnamespace LEFT OUTER JOIN (SELECT pg_catalog.pg_enum.enumtypid AS enumtypid, array_agg(CAST(pg_catalog.pg_enum.enumlabel AS TEXT) ORDER BY pg_catalog.pg_enum.enumsortorder) AS labels \n",
      "FROM pg_catalog.pg_enum GROUP BY pg_catalog.pg_enum.enumtypid) AS lbl_agg ON pg_catalog.pg_type.oid = lbl_agg.enumtypid \n",
      "WHERE pg_catalog.pg_type.typtype = %(typtype_1)s ORDER BY pg_catalog.pg_namespace.nspname, pg_catalog.pg_type.typname\n",
      "2025-03-30 13:05:25,601 INFO sqlalchemy.engine.Engine [generated in 0.00056s] {'typtype_1': 'e'}\n",
      "2025-03-30 13:05:25,653 INFO sqlalchemy.engine.Engine SELECT pg_catalog.pg_class.oid, pg_catalog.pg_class.relname \n",
      "FROM pg_catalog.pg_class JOIN pg_catalog.pg_namespace ON pg_catalog.pg_namespace.oid = pg_catalog.pg_class.relnamespace \n",
      "WHERE pg_catalog.pg_class.relkind = ANY (ARRAY[%(param_1)s, %(param_2)s, %(param_3)s, %(param_4)s, %(param_5)s]) AND pg_catalog.pg_table_is_visible(pg_catalog.pg_class.oid) AND pg_catalog.pg_namespace.nspname != %(nspname_1)s AND pg_catalog.pg_class.relname IN (%(filter_names_1)s)\n",
      "2025-03-30 13:05:25,654 INFO sqlalchemy.engine.Engine [generated in 0.00160s] {'param_1': 'r', 'param_2': 'p', 'param_3': 'f', 'param_4': 'v', 'param_5': 'm', 'nspname_1': 'pg_catalog', 'filter_names_1': 'warehouse'}\n",
      "2025-03-30 13:05:25,707 INFO sqlalchemy.engine.Engine SELECT attr.conrelid, array_agg(CAST(attr.attname AS TEXT) ORDER BY attr.ord) AS cols, attr.conname, min(attr.description) AS description, NULL AS extra \n",
      "FROM (SELECT con.conrelid AS conrelid, con.conname AS conname, con.conindid AS conindid, con.description AS description, con.ord AS ord, pg_catalog.pg_attribute.attname AS attname \n",
      "FROM pg_catalog.pg_attribute JOIN (SELECT pg_catalog.pg_constraint.conrelid AS conrelid, pg_catalog.pg_constraint.conname AS conname, pg_catalog.pg_constraint.conindid AS conindid, unnest(pg_catalog.pg_constraint.conkey) AS attnum, generate_subscripts(pg_catalog.pg_constraint.conkey, %(generate_subscripts_1)s) AS ord, pg_catalog.pg_description.description AS description \n",
      "FROM pg_catalog.pg_constraint LEFT OUTER JOIN pg_catalog.pg_description ON pg_catalog.pg_description.objoid = pg_catalog.pg_constraint.oid \n",
      "WHERE pg_catalog.pg_constraint.contype = %(contype)s AND pg_catalog.pg_constraint.conrelid IN (%(oids_1)s)) AS con ON pg_catalog.pg_attribute.attnum = con.attnum AND pg_catalog.pg_attribute.attrelid = con.conrelid \n",
      "WHERE con.conrelid IN (%(oids_1)s)) AS attr GROUP BY attr.conrelid, attr.conname ORDER BY attr.conrelid, attr.conname\n",
      "2025-03-30 13:05:25,708 INFO sqlalchemy.engine.Engine [generated in 0.00118s] {'generate_subscripts_1': 1, 'contype': 'p', 'oids_1': 155654}\n",
      "2025-03-30 13:05:25,767 INFO sqlalchemy.engine.Engine SELECT pg_catalog.pg_class.relname, pg_catalog.pg_constraint.conname, CASE WHEN (pg_catalog.pg_constraint.oid IS NOT NULL) THEN pg_catalog.pg_get_constraintdef(pg_catalog.pg_constraint.oid, %(pg_get_constraintdef_1)s) END AS anon_1, nsp_ref.nspname, pg_catalog.pg_description.description \n",
      "FROM pg_catalog.pg_class LEFT OUTER JOIN pg_catalog.pg_constraint ON pg_catalog.pg_class.oid = pg_catalog.pg_constraint.conrelid AND pg_catalog.pg_constraint.contype = %(contype_1)s LEFT OUTER JOIN pg_catalog.pg_class AS cls_ref ON cls_ref.oid = pg_catalog.pg_constraint.confrelid LEFT OUTER JOIN pg_catalog.pg_namespace AS nsp_ref ON cls_ref.relnamespace = nsp_ref.oid LEFT OUTER JOIN pg_catalog.pg_description ON pg_catalog.pg_description.objoid = pg_catalog.pg_constraint.oid JOIN pg_catalog.pg_namespace ON pg_catalog.pg_namespace.oid = pg_catalog.pg_class.relnamespace \n",
      "WHERE pg_catalog.pg_class.relkind = ANY (ARRAY[%(param_1)s, %(param_2)s, %(param_3)s, %(param_4)s, %(param_5)s]) AND pg_catalog.pg_table_is_visible(pg_catalog.pg_class.oid) AND pg_catalog.pg_namespace.nspname != %(nspname_1)s AND pg_catalog.pg_class.relname IN (%(filter_names_1)s) ORDER BY pg_catalog.pg_class.relname, pg_catalog.pg_constraint.conname\n",
      "2025-03-30 13:05:25,769 INFO sqlalchemy.engine.Engine [generated in 0.00175s] {'pg_get_constraintdef_1': True, 'contype_1': 'f', 'param_1': 'r', 'param_2': 'p', 'param_3': 'f', 'param_4': 'v', 'param_5': 'm', 'nspname_1': 'pg_catalog', 'filter_names_1': 'warehouse'}\n",
      "2025-03-30 13:05:25,820 INFO sqlalchemy.engine.Engine SELECT pg_catalog.pg_index.indrelid, cls_idx.relname AS relname_index, pg_catalog.pg_index.indisunique, pg_catalog.pg_constraint.conrelid IS NOT NULL AS has_constraint, pg_catalog.pg_index.indoption, cls_idx.reloptions, pg_catalog.pg_am.amname, CASE WHEN (pg_catalog.pg_index.indpred IS NOT NULL) THEN pg_catalog.pg_get_expr(pg_catalog.pg_index.indpred, pg_catalog.pg_index.indrelid) END AS filter_definition, pg_catalog.pg_index.indnkeyatts, pg_catalog.pg_index.indnullsnotdistinct, idx_cols.elements, idx_cols.elements_is_expr \n",
      "FROM pg_catalog.pg_index JOIN pg_catalog.pg_class AS cls_idx ON pg_catalog.pg_index.indexrelid = cls_idx.oid JOIN pg_catalog.pg_am ON cls_idx.relam = pg_catalog.pg_am.oid LEFT OUTER JOIN (SELECT idx_attr.indexrelid AS indexrelid, min(idx_attr.indrelid) AS min_1, array_agg(idx_attr.element ORDER BY idx_attr.ord) AS elements, array_agg(idx_attr.is_expr ORDER BY idx_attr.ord) AS elements_is_expr \n",
      "FROM (SELECT idx.indexrelid AS indexrelid, idx.indrelid AS indrelid, idx.ord AS ord, CASE WHEN (idx.attnum = %(attnum_1)s) THEN pg_catalog.pg_get_indexdef(idx.indexrelid, idx.ord + %(ord_1)s, %(pg_get_indexdef_1)s) ELSE CAST(pg_catalog.pg_attribute.attname AS TEXT) END AS element, idx.attnum = %(attnum_2)s AS is_expr \n",
      "FROM (SELECT pg_catalog.pg_index.indexrelid AS indexrelid, pg_catalog.pg_index.indrelid AS indrelid, unnest(pg_catalog.pg_index.indkey) AS attnum, generate_subscripts(pg_catalog.pg_index.indkey, %(generate_subscripts_1)s) AS ord \n",
      "FROM pg_catalog.pg_index \n",
      "WHERE NOT pg_catalog.pg_index.indisprimary AND pg_catalog.pg_index.indrelid IN (%(oids_1)s)) AS idx LEFT OUTER JOIN pg_catalog.pg_attribute ON pg_catalog.pg_attribute.attnum = idx.attnum AND pg_catalog.pg_attribute.attrelid = idx.indrelid \n",
      "WHERE idx.indrelid IN (%(oids_1)s)) AS idx_attr GROUP BY idx_attr.indexrelid) AS idx_cols ON pg_catalog.pg_index.indexrelid = idx_cols.indexrelid LEFT OUTER JOIN pg_catalog.pg_constraint ON pg_catalog.pg_index.indrelid = pg_catalog.pg_constraint.conrelid AND pg_catalog.pg_index.indexrelid = pg_catalog.pg_constraint.conindid AND pg_catalog.pg_constraint.contype = ANY (ARRAY[%(param_1)s, %(param_2)s, %(param_3)s]) \n",
      "WHERE pg_catalog.pg_index.indrelid IN (%(oids_1)s) AND NOT pg_catalog.pg_index.indisprimary ORDER BY pg_catalog.pg_index.indrelid, cls_idx.relname\n",
      "2025-03-30 13:05:25,821 INFO sqlalchemy.engine.Engine [generated in 0.00067s] {'attnum_1': 0, 'ord_1': 1, 'pg_get_indexdef_1': True, 'attnum_2': 0, 'generate_subscripts_1': 1, 'param_1': 'p', 'param_2': 'u', 'param_3': 'x', 'oids_1': 155654}\n",
      "2025-03-30 13:05:25,876 INFO sqlalchemy.engine.Engine SELECT attr.conrelid, array_agg(CAST(attr.attname AS TEXT) ORDER BY attr.ord) AS cols, attr.conname, min(attr.description) AS description, bool_and(pg_catalog.pg_index.indnullsnotdistinct) AS indnullsnotdistinct \n",
      "FROM (SELECT con.conrelid AS conrelid, con.conname AS conname, con.conindid AS conindid, con.description AS description, con.ord AS ord, pg_catalog.pg_attribute.attname AS attname \n",
      "FROM pg_catalog.pg_attribute JOIN (SELECT pg_catalog.pg_constraint.conrelid AS conrelid, pg_catalog.pg_constraint.conname AS conname, pg_catalog.pg_constraint.conindid AS conindid, unnest(pg_catalog.pg_constraint.conkey) AS attnum, generate_subscripts(pg_catalog.pg_constraint.conkey, %(generate_subscripts_1)s) AS ord, pg_catalog.pg_description.description AS description \n",
      "FROM pg_catalog.pg_constraint LEFT OUTER JOIN pg_catalog.pg_description ON pg_catalog.pg_description.objoid = pg_catalog.pg_constraint.oid \n",
      "WHERE pg_catalog.pg_constraint.contype = %(contype)s AND pg_catalog.pg_constraint.conrelid IN (%(oids_1)s)) AS con ON pg_catalog.pg_attribute.attnum = con.attnum AND pg_catalog.pg_attribute.attrelid = con.conrelid \n",
      "WHERE con.conrelid IN (%(oids_1)s)) AS attr JOIN pg_catalog.pg_index ON attr.conindid = pg_catalog.pg_index.indexrelid GROUP BY attr.conrelid, attr.conname ORDER BY attr.conrelid, attr.conname\n",
      "2025-03-30 13:05:25,877 INFO sqlalchemy.engine.Engine [generated in 0.00071s] {'generate_subscripts_1': 1, 'contype': 'u', 'oids_1': 155654}\n",
      "2025-03-30 13:05:25,926 INFO sqlalchemy.engine.Engine SELECT pg_catalog.pg_class.relname, pg_catalog.pg_description.description \n",
      "FROM pg_catalog.pg_class LEFT OUTER JOIN pg_catalog.pg_description ON pg_catalog.pg_class.oid = pg_catalog.pg_description.objoid AND pg_catalog.pg_description.objsubid = %(objsubid_1)s AND pg_catalog.pg_description.classoid = CAST(%(param_1)s AS REGCLASS) JOIN pg_catalog.pg_namespace ON pg_catalog.pg_namespace.oid = pg_catalog.pg_class.relnamespace \n",
      "WHERE pg_catalog.pg_class.relkind = ANY (ARRAY[%(param_2)s, %(param_3)s, %(param_4)s, %(param_5)s, %(param_6)s]) AND pg_catalog.pg_table_is_visible(pg_catalog.pg_class.oid) AND pg_catalog.pg_namespace.nspname != %(nspname_1)s AND pg_catalog.pg_class.relname IN (%(filter_names_1)s)\n",
      "2025-03-30 13:05:25,927 INFO sqlalchemy.engine.Engine [generated in 0.00163s] {'objsubid_1': 0, 'param_1': 'pg_catalog.pg_class', 'param_2': 'r', 'param_3': 'p', 'param_4': 'f', 'param_5': 'v', 'param_6': 'm', 'nspname_1': 'pg_catalog', 'filter_names_1': 'warehouse'}\n",
      "2025-03-30 13:05:25,976 INFO sqlalchemy.engine.Engine SELECT pg_catalog.pg_class.relname, pg_catalog.pg_constraint.conname, CASE WHEN (pg_catalog.pg_constraint.oid IS NOT NULL) THEN pg_catalog.pg_get_constraintdef(pg_catalog.pg_constraint.oid, %(pg_get_constraintdef_1)s) END AS anon_1, pg_catalog.pg_description.description \n",
      "FROM pg_catalog.pg_class LEFT OUTER JOIN pg_catalog.pg_constraint ON pg_catalog.pg_class.oid = pg_catalog.pg_constraint.conrelid AND pg_catalog.pg_constraint.contype = %(contype_1)s LEFT OUTER JOIN pg_catalog.pg_description ON pg_catalog.pg_description.objoid = pg_catalog.pg_constraint.oid JOIN pg_catalog.pg_namespace ON pg_catalog.pg_namespace.oid = pg_catalog.pg_class.relnamespace \n",
      "WHERE pg_catalog.pg_class.relkind = ANY (ARRAY[%(param_1)s, %(param_2)s, %(param_3)s, %(param_4)s, %(param_5)s]) AND pg_catalog.pg_table_is_visible(pg_catalog.pg_class.oid) AND pg_catalog.pg_namespace.nspname != %(nspname_1)s AND pg_catalog.pg_class.relname IN (%(filter_names_1)s) ORDER BY pg_catalog.pg_class.relname, pg_catalog.pg_constraint.conname\n",
      "2025-03-30 13:05:25,978 INFO sqlalchemy.engine.Engine [generated in 0.00174s] {'pg_get_constraintdef_1': True, 'contype_1': 'c', 'param_1': 'r', 'param_2': 'p', 'param_3': 'f', 'param_4': 'v', 'param_5': 'm', 'nspname_1': 'pg_catalog', 'filter_names_1': 'warehouse'}\n",
      "2025-03-30 13:05:26,026 INFO sqlalchemy.engine.Engine \n",
      "DROP TABLE warehouse\n",
      "2025-03-30 13:05:26,028 INFO sqlalchemy.engine.Engine [no key 0.00153s] {}\n",
      "2025-03-30 13:05:26,093 INFO sqlalchemy.engine.Engine \n",
      "CREATE TABLE warehouse (\n",
      "\tindex BIGINT, \n",
      "\tname TEXT, \n",
      "\tvalue BIGINT, \n",
      "\tprice TEXT, \n",
      "\tcomments TEXT, \n",
      "\tcheck_stock_availability BOOLEAN\n",
      ")\n",
      "\n",
      "\n",
      "2025-03-30 13:05:26,094 INFO sqlalchemy.engine.Engine [no key 0.00167s] {}\n",
      "2025-03-30 13:05:26,178 INFO sqlalchemy.engine.Engine INSERT INTO warehouse (index, name, value, price, comments, check_stock_availability) VALUES (%(index__0)s, %(name__0)s, %(value__0)s, %(price__0)s, %(comments__0)s, %(check_stock_availability__0)s), (%(index__1)s, %(name__1)s, %(value__1)s, %(price_ ... 34067 characters truncated ... %(name__293)s, %(value__293)s, %(price__293)s, %(comments__293)s, %(check_stock_availability__293)s)\n",
      "2025-03-30 13:05:26,180 INFO sqlalchemy.engine.Engine [generated in 0.00169s (insertmanyvalues) 1/1 (unordered)] {'check_stock_availability__0': False, 'name__0': 'Абсорбер (фильтр угольный)', 'price__0': '1500', 'comments__0': None, 'value__0': 10, 'index__0': 0, 'check_stock_availability__1': False, 'name__1': 'аморты задние', 'price__1': '3000', 'comments__1': None, 'value__1': 10, 'index__1': 1, 'check_stock_availability__2': False, 'name__2': 'бампер задний коротыш дорестайл (без калитки)', 'price__2': '3000', 'comments__2': None, 'value__2': 0, 'index__2': 2, 'check_stock_availability__3': False, 'name__3': 'бампер задний коротыш рестайл (под калитку)', 'price__3': '3000', 'comments__3': None, 'value__3': 10, 'index__3': 3, 'check_stock_availability__4': False, 'name__4': 'бампер передний дорестайл гладкий', 'price__4': '7500', 'comments__4': None, 'value__4': 0, 'index__4': 4, 'check_stock_availability__5': False, 'name__5': 'бампер передний рестайл ( с клыками)', 'price__5': '7500', 'comments__5': None, 'value__5': 0, 'index__5': 5, 'check_stock_availability__6': False, 'name__6': 'барабан тормозной дорестайл ( 25 см)', 'price__6': '1000', 'comments__6': None, 'value__6': 0, 'index__6': 6, 'check_stock_availability__7': False, 'name__7': 'барабан тормозной рестайл ( 26 см)', 'price__7': '1000', 'comments__7': None, 'value__7': 10, 'index__7': 7, 'check_stock_availability__8': False, 'name__8': 'Бардачок дорестайл' ... 1664 parameters truncated ... 'value__285': 10, 'index__285': 285, 'check_stock_availability__286': False, 'name__286': 'фонарь задний рестайл (красно белый)', 'price__286': '3000', 'comments__286': None, 'value__286': 0, 'index__286': 286, 'check_stock_availability__287': False, 'name__287': 'форсунки', 'price__287': '11000', 'comments__287': None, 'value__287': 10, 'index__287': 287, 'check_stock_availability__288': False, 'name__288': 'форсунки', 'price__288': '11000', 'comments__288': None, 'value__288': 10, 'index__288': 288, 'check_stock_availability__289': False, 'name__289': 'хабы автоматы', 'price__289': '6000-9000', 'comments__289': None, 'value__289': 10, 'index__289': 289, 'check_stock_availability__290': True, 'name__290': 'хабы вакуум', 'price__290': '6000-9000', 'comments__290': None, 'value__290': 0, 'index__290': 290, 'check_stock_availability__291': True, 'name__291': 'хабы механика', 'price__291': '6000-9000', 'comments__291': None, 'value__291': 0, 'index__291': 291, 'check_stock_availability__292': False, 'name__292': 'шрус внутренний, шрус наружный', 'price__292': '6000', 'comments__292': None, 'value__292': 10, 'index__292': 292, 'check_stock_availability__293': False, 'name__293': 'эбу синий + иммобилайзер + ключи', 'price__293': '12000', 'comments__293': None, 'value__293': 0, 'index__293': 293}\n",
      "2025-03-30 13:05:26,256 INFO sqlalchemy.engine.Engine COMMIT\n"
     ]
    }
   ],
   "source": [
    "# Подключение к PostgreSQL\n",
    "tmpPostgres = urlparse(os.getenv(\"DATABASE_URL\"))\n",
    "\n",
    "# Синхронный движок для PostgreSQL\n",
    "engine = create_engine(\n",
    "    f\"postgresql://{tmpPostgres.username}:{tmpPostgres.password}@{tmpPostgres.hostname}{tmpPostgres.path}?sslmode=require\",\n",
    "    echo=True\n",
    ")\n",
    "with engine.begin() as conn:\n",
    "    new_df.write_database(\"warehouse\", conn, if_table_exists='replace')"
   ]
  },
  {
   "cell_type": "code",
   "execution_count": null,
   "metadata": {},
   "outputs": [],
   "source": []
  },
  {
   "cell_type": "code",
   "execution_count": 6,
   "metadata": {},
   "outputs": [
    {
     "data": {
      "text/html": [
       "<div><style>\n",
       ".dataframe > thead > tr,\n",
       ".dataframe > tbody > tr {\n",
       "  text-align: right;\n",
       "  white-space: pre-wrap;\n",
       "}\n",
       "</style>\n",
       "<small>shape: (178, 5)</small><table border=\"1\" class=\"dataframe\"><thead><tr><th>index</th><th>name</th><th>value</th><th>price</th><th>check_stock_availability</th></tr><tr><td>i64</td><td>str</td><td>i64</td><td>i64</td><td>str</td></tr></thead><tbody><tr><td>1</td><td>&quot;задний бампер автомобиля&quot;</td><td>10</td><td>3000</td><td>&quot;уточнять количество НЕ НАДО&quot;</td></tr><tr><td>3</td><td>&quot;тормозной барабан колёс&quot;</td><td>10</td><td>2000</td><td>&quot;уточнять количество НЕ НАДО&quot;</td></tr><tr><td>4</td><td>&quot;бардачок салона&quot;</td><td>10</td><td>1000</td><td>&quot;уточнять количество НЕ НАДО&quot;</td></tr><tr><td>5</td><td>&quot;бачок гидроусилителя руля&quot;</td><td>10</td><td>1200</td><td>&quot;уточнять количество НЕ НАДО&quot;</td></tr><tr><td>6</td><td>&quot;бензонасос для калининградског…</td><td>0</td><td>9000</td><td>&quot;уточнять количество НЕ НАДО&quot;</td></tr><tr><td>&hellip;</td><td>&hellip;</td><td>&hellip;</td><td>&hellip;</td><td>&hellip;</td></tr><tr><td>182</td><td>&quot;форсунки топливные&quot;</td><td>10</td><td>11000</td><td>&quot;уточнять количество НЕ НАДО&quot;</td></tr><tr><td>184</td><td>&quot;электронный блок управления с …</td><td>0</td><td>12000</td><td>&quot;уточнять количество НЕ НАДО&quot;</td></tr><tr><td>0</td><td>&quot;крышка багажного отделения&quot;</td><td>5</td><td>13000</td><td>&quot;уточнять количество НЕ НАДО&quot;</td></tr><tr><td>155</td><td>&quot;стартер двигателя&quot;</td><td>10</td><td>5500</td><td>&quot;уточнять количество НЕ НАДО&quot;</td></tr><tr><td>16</td><td>&quot;выпускной коллектор двигателя&quot;</td><td>0</td><td>7500</td><td>&quot;уточнять количество НЕ НАДО&quot;</td></tr></tbody></table></div>"
      ],
      "text/plain": [
       "shape: (178, 5)\n",
       "┌───────┬─────────────────────────────────┬───────┬───────┬─────────────────────────────┐\n",
       "│ index ┆ name                            ┆ value ┆ price ┆ check_stock_availability    │\n",
       "│ ---   ┆ ---                             ┆ ---   ┆ ---   ┆ ---                         │\n",
       "│ i64   ┆ str                             ┆ i64   ┆ i64   ┆ str                         │\n",
       "╞═══════╪═════════════════════════════════╪═══════╪═══════╪═════════════════════════════╡\n",
       "│ 1     ┆ задний бампер автомобиля        ┆ 10    ┆ 3000  ┆ уточнять количество НЕ НАДО │\n",
       "│ 3     ┆ тормозной барабан колёс         ┆ 10    ┆ 2000  ┆ уточнять количество НЕ НАДО │\n",
       "│ 4     ┆ бардачок салона                 ┆ 10    ┆ 1000  ┆ уточнять количество НЕ НАДО │\n",
       "│ 5     ┆ бачок гидроусилителя руля       ┆ 10    ┆ 1200  ┆ уточнять количество НЕ НАДО │\n",
       "│ 6     ┆ бензонасос для калининградског… ┆ 0     ┆ 9000  ┆ уточнять количество НЕ НАДО │\n",
       "│ …     ┆ …                               ┆ …     ┆ …     ┆ …                           │\n",
       "│ 182   ┆ форсунки топливные              ┆ 10    ┆ 11000 ┆ уточнять количество НЕ НАДО │\n",
       "│ 184   ┆ электронный блок управления с … ┆ 0     ┆ 12000 ┆ уточнять количество НЕ НАДО │\n",
       "│ 0     ┆ крышка багажного отделения      ┆ 5     ┆ 13000 ┆ уточнять количество НЕ НАДО │\n",
       "│ 155   ┆ стартер двигателя               ┆ 10    ┆ 5500  ┆ уточнять количество НЕ НАДО │\n",
       "│ 16    ┆ выпускной коллектор двигателя   ┆ 0     ┆ 7500  ┆ уточнять количество НЕ НАДО │\n",
       "└───────┴─────────────────────────────────┴───────┴───────┴─────────────────────────────┘"
      ]
     },
     "execution_count": 6,
     "metadata": {},
     "output_type": "execute_result"
    }
   ],
   "source": [
    "df = df.with_columns(df['check_stock_availability'].cast(pl.String).replace({'false' : 'уточнять количество НЕ НАДО', \"true\" : 'уточнять количество НАДО'}))\n",
    "df"
   ]
  },
  {
   "cell_type": "code",
   "execution_count": 7,
   "metadata": {},
   "outputs": [
    {
     "data": {
      "text/html": [
       "<div><style>\n",
       ".dataframe > thead > tr,\n",
       ".dataframe > tbody > tr {\n",
       "  text-align: right;\n",
       "  white-space: pre-wrap;\n",
       "}\n",
       "</style>\n",
       "<small>shape: (2, 2)</small><table border=\"1\" class=\"dataframe\"><thead><tr><th>check_stock_availability</th><th>count</th></tr><tr><td>str</td><td>u32</td></tr></thead><tbody><tr><td>&quot;уточнять количество НЕ НАДО&quot;</td><td>138</td></tr><tr><td>&quot;уточнять количество НАДО&quot;</td><td>40</td></tr></tbody></table></div>"
      ],
      "text/plain": [
       "shape: (2, 2)\n",
       "┌─────────────────────────────┬───────┐\n",
       "│ check_stock_availability    ┆ count │\n",
       "│ ---                         ┆ ---   │\n",
       "│ str                         ┆ u32   │\n",
       "╞═════════════════════════════╪═══════╡\n",
       "│ уточнять количество НЕ НАДО ┆ 138   │\n",
       "│ уточнять количество НАДО    ┆ 40    │\n",
       "└─────────────────────────────┴───────┘"
      ]
     },
     "execution_count": 7,
     "metadata": {},
     "output_type": "execute_result"
    }
   ],
   "source": [
    "df['check_stock_availability'].value_counts()"
   ]
  },
  {
   "cell_type": "code",
   "execution_count": null,
   "metadata": {},
   "outputs": [
    {
     "data": {
      "text/html": [
       "<div><style>\n",
       ".dataframe > thead > tr,\n",
       ".dataframe > tbody > tr {\n",
       "  text-align: right;\n",
       "  white-space: pre-wrap;\n",
       "}\n",
       "</style>\n",
       "<small>shape: (178, 5)</small><table border=\"1\" class=\"dataframe\"><thead><tr><th>index</th><th>name</th><th>value</th><th>price</th><th>check_stock_availability</th></tr><tr><td>i64</td><td>str</td><td>i64</td><td>i64</td><td>bool</td></tr></thead><tbody><tr><td>1</td><td>&quot;задний бампер автомобиля&quot;</td><td>10</td><td>3000</td><td>false</td></tr><tr><td>3</td><td>&quot;тормозной барабан колёс&quot;</td><td>10</td><td>2000</td><td>false</td></tr><tr><td>4</td><td>&quot;бардачок салона&quot;</td><td>10</td><td>1000</td><td>false</td></tr><tr><td>5</td><td>&quot;бачок гидроусилителя руля&quot;</td><td>10</td><td>1200</td><td>false</td></tr><tr><td>6</td><td>&quot;бензонасос для калининградског…</td><td>0</td><td>9000</td><td>false</td></tr><tr><td>&hellip;</td><td>&hellip;</td><td>&hellip;</td><td>&hellip;</td><td>&hellip;</td></tr><tr><td>182</td><td>&quot;форсунки топливные&quot;</td><td>10</td><td>11000</td><td>false</td></tr><tr><td>184</td><td>&quot;электронный блок управления с …</td><td>0</td><td>12000</td><td>false</td></tr><tr><td>0</td><td>&quot;крышка багажного отделения&quot;</td><td>5</td><td>13000</td><td>false</td></tr><tr><td>155</td><td>&quot;стартер двигателя&quot;</td><td>10</td><td>5500</td><td>false</td></tr><tr><td>16</td><td>&quot;выпускной коллектор двигателя&quot;</td><td>0</td><td>7500</td><td>false</td></tr></tbody></table></div>"
      ],
      "text/plain": [
       "shape: (178, 5)\n",
       "┌───────┬─────────────────────────────────┬───────┬───────┬──────────────────────────┐\n",
       "│ index ┆ name                            ┆ value ┆ price ┆ check_stock_availability │\n",
       "│ ---   ┆ ---                             ┆ ---   ┆ ---   ┆ ---                      │\n",
       "│ i64   ┆ str                             ┆ i64   ┆ i64   ┆ bool                     │\n",
       "╞═══════╪═════════════════════════════════╪═══════╪═══════╪══════════════════════════╡\n",
       "│ 1     ┆ задний бампер автомобиля        ┆ 10    ┆ 3000  ┆ false                    │\n",
       "│ 3     ┆ тормозной барабан колёс         ┆ 10    ┆ 2000  ┆ false                    │\n",
       "│ 4     ┆ бардачок салона                 ┆ 10    ┆ 1000  ┆ false                    │\n",
       "│ 5     ┆ бачок гидроусилителя руля       ┆ 10    ┆ 1200  ┆ false                    │\n",
       "│ 6     ┆ бензонасос для калининградског… ┆ 0     ┆ 9000  ┆ false                    │\n",
       "│ …     ┆ …                               ┆ …     ┆ …     ┆ …                        │\n",
       "│ 182   ┆ форсунки топливные              ┆ 10    ┆ 11000 ┆ false                    │\n",
       "│ 184   ┆ электронный блок управления с … ┆ 0     ┆ 12000 ┆ false                    │\n",
       "│ 0     ┆ крышка багажного отделения      ┆ 5     ┆ 13000 ┆ false                    │\n",
       "│ 155   ┆ стартер двигателя               ┆ 10    ┆ 5500  ┆ false                    │\n",
       "│ 16    ┆ выпускной коллектор двигателя   ┆ 0     ┆ 7500  ┆ false                    │\n",
       "└───────┴─────────────────────────────────┴───────┴───────┴──────────────────────────┘"
      ]
     },
     "execution_count": 14,
     "metadata": {},
     "output_type": "execute_result"
    }
   ],
   "source": [
    "\n",
    "new_column = 'check_stock_availability'\n",
    "new_df = df.with_columns(\n",
    "    ((df['value'] == 0) & pl.Series(rand_number)).alias(new_column)\n",
    ")\n",
    "new_df"
   ]
  },
  {
   "cell_type": "code",
   "execution_count": 28,
   "metadata": {},
   "outputs": [
    {
     "data": {
      "text/html": [
       "<div><style>\n",
       ".dataframe > thead > tr,\n",
       ".dataframe > tbody > tr {\n",
       "  text-align: right;\n",
       "  white-space: pre-wrap;\n",
       "}\n",
       "</style>\n",
       "<small>shape: (2, 2)</small><table border=\"1\" class=\"dataframe\"><thead><tr><th>check_stock_availability</th><th>count</th></tr><tr><td>bool</td><td>u32</td></tr></thead><tbody><tr><td>true</td><td>40</td></tr><tr><td>false</td><td>138</td></tr></tbody></table></div>"
      ],
      "text/plain": [
       "shape: (2, 2)\n",
       "┌──────────────────────────┬───────┐\n",
       "│ check_stock_availability ┆ count │\n",
       "│ ---                      ┆ ---   │\n",
       "│ bool                     ┆ u32   │\n",
       "╞══════════════════════════╪═══════╡\n",
       "│ true                     ┆ 40    │\n",
       "│ false                    ┆ 138   │\n",
       "└──────────────────────────┴───────┘"
      ]
     },
     "execution_count": 28,
     "metadata": {},
     "output_type": "execute_result"
    }
   ],
   "source": [
    "new_df['check_stock_availability'].value_counts()"
   ]
  },
  {
   "cell_type": "code",
   "execution_count": 21,
   "metadata": {},
   "outputs": [
    {
     "name": "stdout",
     "output_type": "stream",
     "text": [
      "2025-03-30 13:04:50,933 INFO sqlalchemy.engine.Engine select pg_catalog.version()\n",
      "2025-03-30 13:04:50,935 INFO sqlalchemy.engine.Engine [raw sql] {}\n",
      "2025-03-30 13:04:51,025 INFO sqlalchemy.engine.Engine select current_schema()\n",
      "2025-03-30 13:04:51,027 INFO sqlalchemy.engine.Engine [raw sql] {}\n",
      "2025-03-30 13:04:51,117 INFO sqlalchemy.engine.Engine show standard_conforming_strings\n",
      "2025-03-30 13:04:51,118 INFO sqlalchemy.engine.Engine [raw sql] {}\n",
      "2025-03-30 13:04:51,209 INFO sqlalchemy.engine.Engine BEGIN (implicit)\n",
      "2025-03-30 13:04:51,211 INFO sqlalchemy.engine.Engine ROLLBACK\n"
     ]
    },
    {
     "ename": "ModuleNotFoundError",
     "evalue": "writing with 'sqlalchemy' engine currently requires pandas.\n\nInstall with: pip install pandas",
     "output_type": "error",
     "traceback": [
      "\u001b[31m---------------------------------------------------------------------------\u001b[39m",
      "\u001b[31mModuleNotFoundError\u001b[39m                       Traceback (most recent call last)",
      "\u001b[36mCell\u001b[39m\u001b[36m \u001b[39m\u001b[32mIn[21]\u001b[39m\u001b[32m, line 10\u001b[39m\n\u001b[32m      5\u001b[39m engine = create_engine(\n\u001b[32m      6\u001b[39m     \u001b[33mf\u001b[39m\u001b[33m\"\u001b[39m\u001b[33mpostgresql://\u001b[39m\u001b[38;5;132;01m{\u001b[39;00mtmpPostgres.username\u001b[38;5;132;01m}\u001b[39;00m\u001b[33m:\u001b[39m\u001b[38;5;132;01m{\u001b[39;00mtmpPostgres.password\u001b[38;5;132;01m}\u001b[39;00m\u001b[33m@\u001b[39m\u001b[38;5;132;01m{\u001b[39;00mtmpPostgres.hostname\u001b[38;5;132;01m}\u001b[39;00m\u001b[38;5;132;01m{\u001b[39;00mtmpPostgres.path\u001b[38;5;132;01m}\u001b[39;00m\u001b[33m?sslmode=require\u001b[39m\u001b[33m\"\u001b[39m,\n\u001b[32m      7\u001b[39m     echo=\u001b[38;5;28;01mTrue\u001b[39;00m\n\u001b[32m      8\u001b[39m )\n\u001b[32m      9\u001b[39m \u001b[38;5;28;01mwith\u001b[39;00m engine.begin() \u001b[38;5;28;01mas\u001b[39;00m conn:\n\u001b[32m---> \u001b[39m\u001b[32m10\u001b[39m     \u001b[43mnew_df\u001b[49m\u001b[43m.\u001b[49m\u001b[43mwrite_database\u001b[49m\u001b[43m(\u001b[49m\u001b[33;43m\"\u001b[39;49m\u001b[33;43mwarehouse\u001b[39;49m\u001b[33;43m\"\u001b[39;49m\u001b[43m,\u001b[49m\u001b[43m \u001b[49m\u001b[43mconn\u001b[49m\u001b[43m,\u001b[49m\u001b[43m \u001b[49m\u001b[43mif_table_exists\u001b[49m\u001b[43m=\u001b[49m\u001b[33;43m'\u001b[39;49m\u001b[33;43mreplace\u001b[39;49m\u001b[33;43m'\u001b[39;49m\u001b[43m)\u001b[49m\n",
      "\u001b[36mFile \u001b[39m\u001b[32mc:\\Users\\krakotay\\Documents\\python\\ai-for-sales\\.venv\\Lib\\site-packages\\polars\\dataframe\\frame.py:4246\u001b[39m, in \u001b[36mDataFrame.write_database\u001b[39m\u001b[34m(self, table_name, connection, if_table_exists, engine, engine_options)\u001b[39m\n\u001b[32m   4244\u001b[39m \u001b[38;5;28;01mif\u001b[39;00m \u001b[38;5;129;01mnot\u001b[39;00m _PANDAS_AVAILABLE:\n\u001b[32m   4245\u001b[39m     msg = \u001b[33m\"\u001b[39m\u001b[33mwriting with \u001b[39m\u001b[33m'\u001b[39m\u001b[33msqlalchemy\u001b[39m\u001b[33m'\u001b[39m\u001b[33m engine currently requires pandas.\u001b[39m\u001b[38;5;130;01m\\n\u001b[39;00m\u001b[38;5;130;01m\\n\u001b[39;00m\u001b[33mInstall with: pip install pandas\u001b[39m\u001b[33m\"\u001b[39m\n\u001b[32m-> \u001b[39m\u001b[32m4246\u001b[39m     \u001b[38;5;28;01mraise\u001b[39;00m \u001b[38;5;167;01mModuleNotFoundError\u001b[39;00m(msg)\n\u001b[32m   4247\u001b[39m \u001b[38;5;28;01melif\u001b[39;00m (pd_version := parse_version(pd.__version__)) < (\u001b[32m1\u001b[39m, \u001b[32m5\u001b[39m):\n\u001b[32m   4248\u001b[39m     msg = \u001b[33mf\u001b[39m\u001b[33m\"\u001b[39m\u001b[33mwriting with \u001b[39m\u001b[33m'\u001b[39m\u001b[33msqlalchemy\u001b[39m\u001b[33m'\u001b[39m\u001b[33m engine requires pandas >= 1.5; found \u001b[39m\u001b[38;5;132;01m{\u001b[39;00mpd.__version__\u001b[38;5;132;01m!r}\u001b[39;00m\u001b[33m\"\u001b[39m\n",
      "\u001b[31mModuleNotFoundError\u001b[39m: writing with 'sqlalchemy' engine currently requires pandas.\n\nInstall with: pip install pandas"
     ]
    }
   ],
   "source": [
    "# Подключение к PostgreSQL\n",
    "tmpPostgres = urlparse(os.getenv(\"DATABASE_URL\"))\n",
    "\n",
    "# Синхронный движок для PostgreSQL\n",
    "engine = create_engine(\n",
    "    f\"postgresql://{tmpPostgres.username}:{tmpPostgres.password}@{tmpPostgres.hostname}{tmpPostgres.path}?sslmode=require\",\n",
    "    echo=True\n",
    ")\n",
    "with engine.begin() as conn:\n",
    "    new_df.write_database(\"warehouse\", conn, if_table_exists='replace')"
   ]
  }
 ],
 "metadata": {
  "kernelspec": {
   "display_name": ".venv",
   "language": "python",
   "name": "python3"
  },
  "language_info": {
   "codemirror_mode": {
    "name": "ipython",
    "version": 3
   },
   "file_extension": ".py",
   "mimetype": "text/x-python",
   "name": "python",
   "nbconvert_exporter": "python",
   "pygments_lexer": "ipython3",
   "version": "3.13.2"
  }
 },
 "nbformat": 4,
 "nbformat_minor": 2
}
